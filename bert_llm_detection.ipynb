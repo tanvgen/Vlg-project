{
  "metadata": {
    "kernelspec": {
      "language": "python",
      "display_name": "Python 3",
      "name": "python3"
    },
    "language_info": {
      "name": "python",
      "version": "3.10.12",
      "mimetype": "text/x-python",
      "codemirror_mode": {
        "name": "ipython",
        "version": 3
      },
      "pygments_lexer": "ipython3",
      "nbconvert_exporter": "python",
      "file_extension": ".py"
    },
    "kaggle": {
      "accelerator": "gpu",
      "dataSources": [
        {
          "sourceId": 61542,
          "databundleVersionId": 6888007,
          "sourceType": "competition"
        },
        {
          "sourceId": 6977472,
          "sourceType": "datasetVersion",
          "datasetId": 4005256
        },
        {
          "sourceId": 2628,
          "sourceType": "modelInstanceVersion",
          "modelInstanceId": 1902
        },
        {
          "sourceId": 2938,
          "sourceType": "modelInstanceVersion",
          "modelInstanceId": 2180
        }
      ],
      "dockerImageVersionId": 30627,
      "isInternetEnabled": false,
      "language": "python",
      "sourceType": "notebook",
      "isGpuEnabled": true
    },
    "colab": {
      "provenance": []
    }
  },
  "nbformat_minor": 0,
  "nbformat": 4,
  "cells": [
    {
      "cell_type": "code",
      "source": [
        "!pip install -q transformers nltk tensorflow tensorflow-hub tensorflow_text"
      ],
      "metadata": {
        "_uuid": "8f2839f25d086af736a60e9eeb907d3b93b6e0e5",
        "_cell_guid": "b1076dfc-b9ad-4769-8c92-a6c4dae69d19",
        "execution": {
          "iopub.status.busy": "2024-01-15T12:08:42.897619Z",
          "iopub.execute_input": "2024-01-15T12:08:42.898458Z",
          "iopub.status.idle": "2024-01-15T12:09:16.039276Z",
          "shell.execute_reply.started": "2024-01-15T12:08:42.898423Z",
          "shell.execute_reply": "2024-01-15T12:09:16.037750Z"
        },
        "trusted": true,
        "id": "Pc_j-lduPgwf",
        "colab": {
          "base_uri": "https://localhost:8080/"
        },
        "outputId": "61a8eb09-4e06-430a-81b2-4fb33acc9a7f"
      },
      "execution_count": 1,
      "outputs": [
        {
          "output_type": "stream",
          "name": "stdout",
          "text": [
            "\u001b[2K     \u001b[90m━━━━━━━━━━━━━━━━━━━━━━━━━━━━━━━━━━━━━━━━\u001b[0m \u001b[32m5.2/5.2 MB\u001b[0m \u001b[31m19.6 MB/s\u001b[0m eta \u001b[36m0:00:00\u001b[0m\n",
            "\u001b[?25h"
          ]
        }
      ]
    },
    {
      "cell_type": "markdown",
      "source": [
        "## Import libraries"
      ],
      "metadata": {
        "id": "3R11N0C3Pgwr"
      }
    },
    {
      "cell_type": "code",
      "source": [
        "import pandas as pd\n",
        "import seaborn as sns\n",
        "from matplotlib import pyplot as plt"
      ],
      "metadata": {
        "execution": {
          "iopub.status.busy": "2024-01-15T12:09:16.041779Z",
          "iopub.execute_input": "2024-01-15T12:09:16.042207Z",
          "iopub.status.idle": "2024-01-15T12:09:16.926587Z",
          "shell.execute_reply.started": "2024-01-15T12:09:16.042163Z",
          "shell.execute_reply": "2024-01-15T12:09:16.925772Z"
        },
        "trusted": true,
        "id": "ZZ7vppoKPgwz"
      },
      "execution_count": 2,
      "outputs": []
    },
    {
      "cell_type": "code",
      "source": [
        "train_prompt_file = \"/kaggle/input/llm-detect-ai-generated-text/train_prompts.csv\"\n",
        "df_train_prompt = pd.read_csv(train_prompt_file)\n",
        "\n",
        "train_essay_file = \"/kaggle/input/llm-detect-ai-generated-text/train_essays.csv\"\n",
        "df_train_essay = pd.read_csv(train_essay_file)\n",
        "\n",
        "test_essay_file = \"/kaggle/input/llm-detect-ai-generated-text/test_essays.csv\"\n",
        "df_test_essay = pd.read_csv(test_essay_file)\n",
        "\n",
        "sub_file = \"/kaggle/input/llm-detect-ai-generated-text/sample_submission.csv\"\n",
        "df_sub = pd.read_csv(sub_file)"
      ],
      "metadata": {
        "execution": {
          "iopub.status.busy": "2024-01-15T12:09:16.927637Z",
          "iopub.execute_input": "2024-01-15T12:09:16.928029Z",
          "iopub.status.idle": "2024-01-15T12:09:17.049497Z",
          "shell.execute_reply.started": "2024-01-15T12:09:16.928002Z",
          "shell.execute_reply": "2024-01-15T12:09:17.048702Z"
        },
        "trusted": true,
        "id": "Wu3xZGkTPgw7",
        "colab": {
          "base_uri": "https://localhost:8080/",
          "height": 1000
        },
        "outputId": "50d5bfb1-1195-45d9-e057-04f2526e1468"
      },
      "execution_count": 3,
      "outputs": [
        {
          "output_type": "error",
          "ename": "FileNotFoundError",
          "evalue": "[Errno 2] No such file or directory: '/kaggle/input/llm-detect-ai-generated-text/train_prompts.csv'",
          "traceback": [
            "\u001b[0;31m---------------------------------------------------------------------------\u001b[0m",
            "\u001b[0;31mFileNotFoundError\u001b[0m                         Traceback (most recent call last)",
            "\u001b[0;32m<ipython-input-3-aeda4f3db983>\u001b[0m in \u001b[0;36m<cell line: 2>\u001b[0;34m()\u001b[0m\n\u001b[1;32m      1\u001b[0m \u001b[0mtrain_prompt_file\u001b[0m \u001b[0;34m=\u001b[0m \u001b[0;34m\"/kaggle/input/llm-detect-ai-generated-text/train_prompts.csv\"\u001b[0m\u001b[0;34m\u001b[0m\u001b[0;34m\u001b[0m\u001b[0m\n\u001b[0;32m----> 2\u001b[0;31m \u001b[0mdf_train_prompt\u001b[0m \u001b[0;34m=\u001b[0m \u001b[0mpd\u001b[0m\u001b[0;34m.\u001b[0m\u001b[0mread_csv\u001b[0m\u001b[0;34m(\u001b[0m\u001b[0mtrain_prompt_file\u001b[0m\u001b[0;34m)\u001b[0m\u001b[0;34m\u001b[0m\u001b[0;34m\u001b[0m\u001b[0m\n\u001b[0m\u001b[1;32m      3\u001b[0m \u001b[0;34m\u001b[0m\u001b[0m\n\u001b[1;32m      4\u001b[0m \u001b[0mtrain_essay_file\u001b[0m \u001b[0;34m=\u001b[0m \u001b[0;34m\"/kaggle/input/llm-detect-ai-generated-text/train_essays.csv\"\u001b[0m\u001b[0;34m\u001b[0m\u001b[0;34m\u001b[0m\u001b[0m\n\u001b[1;32m      5\u001b[0m \u001b[0mdf_train_essay\u001b[0m \u001b[0;34m=\u001b[0m \u001b[0mpd\u001b[0m\u001b[0;34m.\u001b[0m\u001b[0mread_csv\u001b[0m\u001b[0;34m(\u001b[0m\u001b[0mtrain_essay_file\u001b[0m\u001b[0;34m)\u001b[0m\u001b[0;34m\u001b[0m\u001b[0;34m\u001b[0m\u001b[0m\n",
            "\u001b[0;32m/usr/local/lib/python3.10/dist-packages/pandas/util/_decorators.py\u001b[0m in \u001b[0;36mwrapper\u001b[0;34m(*args, **kwargs)\u001b[0m\n\u001b[1;32m    209\u001b[0m                 \u001b[0;32melse\u001b[0m\u001b[0;34m:\u001b[0m\u001b[0;34m\u001b[0m\u001b[0;34m\u001b[0m\u001b[0m\n\u001b[1;32m    210\u001b[0m                     \u001b[0mkwargs\u001b[0m\u001b[0;34m[\u001b[0m\u001b[0mnew_arg_name\u001b[0m\u001b[0;34m]\u001b[0m \u001b[0;34m=\u001b[0m \u001b[0mnew_arg_value\u001b[0m\u001b[0;34m\u001b[0m\u001b[0;34m\u001b[0m\u001b[0m\n\u001b[0;32m--> 211\u001b[0;31m             \u001b[0;32mreturn\u001b[0m \u001b[0mfunc\u001b[0m\u001b[0;34m(\u001b[0m\u001b[0;34m*\u001b[0m\u001b[0margs\u001b[0m\u001b[0;34m,\u001b[0m \u001b[0;34m**\u001b[0m\u001b[0mkwargs\u001b[0m\u001b[0;34m)\u001b[0m\u001b[0;34m\u001b[0m\u001b[0;34m\u001b[0m\u001b[0m\n\u001b[0m\u001b[1;32m    212\u001b[0m \u001b[0;34m\u001b[0m\u001b[0m\n\u001b[1;32m    213\u001b[0m         \u001b[0;32mreturn\u001b[0m \u001b[0mcast\u001b[0m\u001b[0;34m(\u001b[0m\u001b[0mF\u001b[0m\u001b[0;34m,\u001b[0m \u001b[0mwrapper\u001b[0m\u001b[0;34m)\u001b[0m\u001b[0;34m\u001b[0m\u001b[0;34m\u001b[0m\u001b[0m\n",
            "\u001b[0;32m/usr/local/lib/python3.10/dist-packages/pandas/util/_decorators.py\u001b[0m in \u001b[0;36mwrapper\u001b[0;34m(*args, **kwargs)\u001b[0m\n\u001b[1;32m    329\u001b[0m                     \u001b[0mstacklevel\u001b[0m\u001b[0;34m=\u001b[0m\u001b[0mfind_stack_level\u001b[0m\u001b[0;34m(\u001b[0m\u001b[0;34m)\u001b[0m\u001b[0;34m,\u001b[0m\u001b[0;34m\u001b[0m\u001b[0;34m\u001b[0m\u001b[0m\n\u001b[1;32m    330\u001b[0m                 )\n\u001b[0;32m--> 331\u001b[0;31m             \u001b[0;32mreturn\u001b[0m \u001b[0mfunc\u001b[0m\u001b[0;34m(\u001b[0m\u001b[0;34m*\u001b[0m\u001b[0margs\u001b[0m\u001b[0;34m,\u001b[0m \u001b[0;34m**\u001b[0m\u001b[0mkwargs\u001b[0m\u001b[0;34m)\u001b[0m\u001b[0;34m\u001b[0m\u001b[0;34m\u001b[0m\u001b[0m\n\u001b[0m\u001b[1;32m    332\u001b[0m \u001b[0;34m\u001b[0m\u001b[0m\n\u001b[1;32m    333\u001b[0m         \u001b[0;31m# error: \"Callable[[VarArg(Any), KwArg(Any)], Any]\" has no\u001b[0m\u001b[0;34m\u001b[0m\u001b[0;34m\u001b[0m\u001b[0m\n",
            "\u001b[0;32m/usr/local/lib/python3.10/dist-packages/pandas/io/parsers/readers.py\u001b[0m in \u001b[0;36mread_csv\u001b[0;34m(filepath_or_buffer, sep, delimiter, header, names, index_col, usecols, squeeze, prefix, mangle_dupe_cols, dtype, engine, converters, true_values, false_values, skipinitialspace, skiprows, skipfooter, nrows, na_values, keep_default_na, na_filter, verbose, skip_blank_lines, parse_dates, infer_datetime_format, keep_date_col, date_parser, dayfirst, cache_dates, iterator, chunksize, compression, thousands, decimal, lineterminator, quotechar, quoting, doublequote, escapechar, comment, encoding, encoding_errors, dialect, error_bad_lines, warn_bad_lines, on_bad_lines, delim_whitespace, low_memory, memory_map, float_precision, storage_options)\u001b[0m\n\u001b[1;32m    948\u001b[0m     \u001b[0mkwds\u001b[0m\u001b[0;34m.\u001b[0m\u001b[0mupdate\u001b[0m\u001b[0;34m(\u001b[0m\u001b[0mkwds_defaults\u001b[0m\u001b[0;34m)\u001b[0m\u001b[0;34m\u001b[0m\u001b[0;34m\u001b[0m\u001b[0m\n\u001b[1;32m    949\u001b[0m \u001b[0;34m\u001b[0m\u001b[0m\n\u001b[0;32m--> 950\u001b[0;31m     \u001b[0;32mreturn\u001b[0m \u001b[0m_read\u001b[0m\u001b[0;34m(\u001b[0m\u001b[0mfilepath_or_buffer\u001b[0m\u001b[0;34m,\u001b[0m \u001b[0mkwds\u001b[0m\u001b[0;34m)\u001b[0m\u001b[0;34m\u001b[0m\u001b[0;34m\u001b[0m\u001b[0m\n\u001b[0m\u001b[1;32m    951\u001b[0m \u001b[0;34m\u001b[0m\u001b[0m\n\u001b[1;32m    952\u001b[0m \u001b[0;34m\u001b[0m\u001b[0m\n",
            "\u001b[0;32m/usr/local/lib/python3.10/dist-packages/pandas/io/parsers/readers.py\u001b[0m in \u001b[0;36m_read\u001b[0;34m(filepath_or_buffer, kwds)\u001b[0m\n\u001b[1;32m    603\u001b[0m \u001b[0;34m\u001b[0m\u001b[0m\n\u001b[1;32m    604\u001b[0m     \u001b[0;31m# Create the parser.\u001b[0m\u001b[0;34m\u001b[0m\u001b[0;34m\u001b[0m\u001b[0m\n\u001b[0;32m--> 605\u001b[0;31m     \u001b[0mparser\u001b[0m \u001b[0;34m=\u001b[0m \u001b[0mTextFileReader\u001b[0m\u001b[0;34m(\u001b[0m\u001b[0mfilepath_or_buffer\u001b[0m\u001b[0;34m,\u001b[0m \u001b[0;34m**\u001b[0m\u001b[0mkwds\u001b[0m\u001b[0;34m)\u001b[0m\u001b[0;34m\u001b[0m\u001b[0;34m\u001b[0m\u001b[0m\n\u001b[0m\u001b[1;32m    606\u001b[0m \u001b[0;34m\u001b[0m\u001b[0m\n\u001b[1;32m    607\u001b[0m     \u001b[0;32mif\u001b[0m \u001b[0mchunksize\u001b[0m \u001b[0;32mor\u001b[0m \u001b[0miterator\u001b[0m\u001b[0;34m:\u001b[0m\u001b[0;34m\u001b[0m\u001b[0;34m\u001b[0m\u001b[0m\n",
            "\u001b[0;32m/usr/local/lib/python3.10/dist-packages/pandas/io/parsers/readers.py\u001b[0m in \u001b[0;36m__init__\u001b[0;34m(self, f, engine, **kwds)\u001b[0m\n\u001b[1;32m   1440\u001b[0m \u001b[0;34m\u001b[0m\u001b[0m\n\u001b[1;32m   1441\u001b[0m         \u001b[0mself\u001b[0m\u001b[0;34m.\u001b[0m\u001b[0mhandles\u001b[0m\u001b[0;34m:\u001b[0m \u001b[0mIOHandles\u001b[0m \u001b[0;34m|\u001b[0m \u001b[0;32mNone\u001b[0m \u001b[0;34m=\u001b[0m \u001b[0;32mNone\u001b[0m\u001b[0;34m\u001b[0m\u001b[0;34m\u001b[0m\u001b[0m\n\u001b[0;32m-> 1442\u001b[0;31m         \u001b[0mself\u001b[0m\u001b[0;34m.\u001b[0m\u001b[0m_engine\u001b[0m \u001b[0;34m=\u001b[0m \u001b[0mself\u001b[0m\u001b[0;34m.\u001b[0m\u001b[0m_make_engine\u001b[0m\u001b[0;34m(\u001b[0m\u001b[0mf\u001b[0m\u001b[0;34m,\u001b[0m \u001b[0mself\u001b[0m\u001b[0;34m.\u001b[0m\u001b[0mengine\u001b[0m\u001b[0;34m)\u001b[0m\u001b[0;34m\u001b[0m\u001b[0;34m\u001b[0m\u001b[0m\n\u001b[0m\u001b[1;32m   1443\u001b[0m \u001b[0;34m\u001b[0m\u001b[0m\n\u001b[1;32m   1444\u001b[0m     \u001b[0;32mdef\u001b[0m \u001b[0mclose\u001b[0m\u001b[0;34m(\u001b[0m\u001b[0mself\u001b[0m\u001b[0;34m)\u001b[0m \u001b[0;34m->\u001b[0m \u001b[0;32mNone\u001b[0m\u001b[0;34m:\u001b[0m\u001b[0;34m\u001b[0m\u001b[0;34m\u001b[0m\u001b[0m\n",
            "\u001b[0;32m/usr/local/lib/python3.10/dist-packages/pandas/io/parsers/readers.py\u001b[0m in \u001b[0;36m_make_engine\u001b[0;34m(self, f, engine)\u001b[0m\n\u001b[1;32m   1733\u001b[0m                 \u001b[0;32mif\u001b[0m \u001b[0;34m\"b\"\u001b[0m \u001b[0;32mnot\u001b[0m \u001b[0;32min\u001b[0m \u001b[0mmode\u001b[0m\u001b[0;34m:\u001b[0m\u001b[0;34m\u001b[0m\u001b[0;34m\u001b[0m\u001b[0m\n\u001b[1;32m   1734\u001b[0m                     \u001b[0mmode\u001b[0m \u001b[0;34m+=\u001b[0m \u001b[0;34m\"b\"\u001b[0m\u001b[0;34m\u001b[0m\u001b[0;34m\u001b[0m\u001b[0m\n\u001b[0;32m-> 1735\u001b[0;31m             self.handles = get_handle(\n\u001b[0m\u001b[1;32m   1736\u001b[0m                 \u001b[0mf\u001b[0m\u001b[0;34m,\u001b[0m\u001b[0;34m\u001b[0m\u001b[0;34m\u001b[0m\u001b[0m\n\u001b[1;32m   1737\u001b[0m                 \u001b[0mmode\u001b[0m\u001b[0;34m,\u001b[0m\u001b[0;34m\u001b[0m\u001b[0;34m\u001b[0m\u001b[0m\n",
            "\u001b[0;32m/usr/local/lib/python3.10/dist-packages/pandas/io/common.py\u001b[0m in \u001b[0;36mget_handle\u001b[0;34m(path_or_buf, mode, encoding, compression, memory_map, is_text, errors, storage_options)\u001b[0m\n\u001b[1;32m    854\u001b[0m         \u001b[0;32mif\u001b[0m \u001b[0mioargs\u001b[0m\u001b[0;34m.\u001b[0m\u001b[0mencoding\u001b[0m \u001b[0;32mand\u001b[0m \u001b[0;34m\"b\"\u001b[0m \u001b[0;32mnot\u001b[0m \u001b[0;32min\u001b[0m \u001b[0mioargs\u001b[0m\u001b[0;34m.\u001b[0m\u001b[0mmode\u001b[0m\u001b[0;34m:\u001b[0m\u001b[0;34m\u001b[0m\u001b[0;34m\u001b[0m\u001b[0m\n\u001b[1;32m    855\u001b[0m             \u001b[0;31m# Encoding\u001b[0m\u001b[0;34m\u001b[0m\u001b[0;34m\u001b[0m\u001b[0m\n\u001b[0;32m--> 856\u001b[0;31m             handle = open(\n\u001b[0m\u001b[1;32m    857\u001b[0m                 \u001b[0mhandle\u001b[0m\u001b[0;34m,\u001b[0m\u001b[0;34m\u001b[0m\u001b[0;34m\u001b[0m\u001b[0m\n\u001b[1;32m    858\u001b[0m                 \u001b[0mioargs\u001b[0m\u001b[0;34m.\u001b[0m\u001b[0mmode\u001b[0m\u001b[0;34m,\u001b[0m\u001b[0;34m\u001b[0m\u001b[0;34m\u001b[0m\u001b[0m\n",
            "\u001b[0;31mFileNotFoundError\u001b[0m: [Errno 2] No such file or directory: '/kaggle/input/llm-detect-ai-generated-text/train_prompts.csv'"
          ]
        }
      ]
    },
    {
      "cell_type": "code",
      "source": [
        "df_train_essay.head()"
      ],
      "metadata": {
        "execution": {
          "iopub.status.busy": "2024-01-15T12:09:17.051618Z",
          "iopub.execute_input": "2024-01-15T12:09:17.051915Z",
          "iopub.status.idle": "2024-01-15T12:09:17.071858Z",
          "shell.execute_reply.started": "2024-01-15T12:09:17.051889Z",
          "shell.execute_reply": "2024-01-15T12:09:17.070845Z"
        },
        "trusted": true,
        "id": "A1uvgWGVPgw-"
      },
      "execution_count": null,
      "outputs": []
    },
    {
      "cell_type": "code",
      "source": [
        "df_train_prompt.head()"
      ],
      "metadata": {
        "execution": {
          "iopub.status.busy": "2024-01-15T12:09:17.073184Z",
          "iopub.execute_input": "2024-01-15T12:09:17.073862Z",
          "iopub.status.idle": "2024-01-15T12:09:17.084099Z",
          "shell.execute_reply.started": "2024-01-15T12:09:17.073810Z",
          "shell.execute_reply": "2024-01-15T12:09:17.083108Z"
        },
        "trusted": true,
        "id": "qhfrSJbQPgxB"
      },
      "execution_count": null,
      "outputs": []
    },
    {
      "cell_type": "code",
      "source": [
        "df_train_essay.info()"
      ],
      "metadata": {
        "execution": {
          "iopub.status.busy": "2024-01-15T12:09:17.085544Z",
          "iopub.execute_input": "2024-01-15T12:09:17.086047Z",
          "iopub.status.idle": "2024-01-15T12:09:17.112087Z",
          "shell.execute_reply.started": "2024-01-15T12:09:17.086018Z",
          "shell.execute_reply": "2024-01-15T12:09:17.111245Z"
        },
        "trusted": true,
        "id": "wpOxLpD2PgxD"
      },
      "execution_count": null,
      "outputs": []
    },
    {
      "cell_type": "code",
      "source": [
        "df_train_essay[\"generated\"].value_counts()"
      ],
      "metadata": {
        "execution": {
          "iopub.status.busy": "2024-01-15T12:09:17.113371Z",
          "iopub.execute_input": "2024-01-15T12:09:17.113735Z",
          "iopub.status.idle": "2024-01-15T12:09:17.123551Z",
          "shell.execute_reply.started": "2024-01-15T12:09:17.113708Z",
          "shell.execute_reply": "2024-01-15T12:09:17.122668Z"
        },
        "trusted": true,
        "id": "g-FtOFpgPgxF"
      },
      "execution_count": null,
      "outputs": []
    },
    {
      "cell_type": "code",
      "source": [
        "sns.countplot(x=df_train_essay['generated'])\n",
        "plt.show"
      ],
      "metadata": {
        "execution": {
          "iopub.status.busy": "2024-01-15T12:09:17.124950Z",
          "iopub.execute_input": "2024-01-15T12:09:17.125306Z",
          "iopub.status.idle": "2024-01-15T12:09:17.380366Z",
          "shell.execute_reply.started": "2024-01-15T12:09:17.125273Z",
          "shell.execute_reply": "2024-01-15T12:09:17.379536Z"
        },
        "trusted": true,
        "id": "W9VvtN4ePgxI"
      },
      "execution_count": null,
      "outputs": []
    },
    {
      "cell_type": "code",
      "source": [
        "df_train_essay[\"prompt_id\"].value_counts()"
      ],
      "metadata": {
        "execution": {
          "iopub.status.busy": "2024-01-15T12:09:17.381677Z",
          "iopub.execute_input": "2024-01-15T12:09:17.381967Z",
          "iopub.status.idle": "2024-01-15T12:09:17.389248Z",
          "shell.execute_reply.started": "2024-01-15T12:09:17.381941Z",
          "shell.execute_reply": "2024-01-15T12:09:17.388250Z"
        },
        "trusted": true,
        "id": "sC2i7Y19PgxL"
      },
      "execution_count": null,
      "outputs": []
    },
    {
      "cell_type": "code",
      "source": [
        "sns.countplot(x=df_train_essay['prompt_id'])\n",
        "plt.show"
      ],
      "metadata": {
        "execution": {
          "iopub.status.busy": "2024-01-15T12:09:17.393942Z",
          "iopub.execute_input": "2024-01-15T12:09:17.394231Z",
          "iopub.status.idle": "2024-01-15T12:09:17.695828Z",
          "shell.execute_reply.started": "2024-01-15T12:09:17.394205Z",
          "shell.execute_reply": "2024-01-15T12:09:17.694866Z"
        },
        "trusted": true,
        "id": "_ptBYXfCPgxO"
      },
      "execution_count": null,
      "outputs": []
    },
    {
      "cell_type": "markdown",
      "source": [
        "Since the generated distrobution are not equal, lets add external dataset"
      ],
      "metadata": {
        "id": "o2wBNRiXPgxS"
      }
    },
    {
      "cell_type": "code",
      "source": [
        "train_essay_ex_file = \"/kaggle/input/daigt-v2-train-dataset/train_v2_drcat_02.csv\"\n",
        "df_train_essay_ex = pd.read_csv(train_essay_ex_file)"
      ],
      "metadata": {
        "execution": {
          "iopub.status.busy": "2024-01-15T12:09:17.696944Z",
          "iopub.execute_input": "2024-01-15T12:09:17.697236Z",
          "iopub.status.idle": "2024-01-15T12:09:19.803120Z",
          "shell.execute_reply.started": "2024-01-15T12:09:17.697211Z",
          "shell.execute_reply": "2024-01-15T12:09:19.802301Z"
        },
        "trusted": true,
        "id": "RmB9x2EYPgxT"
      },
      "execution_count": null,
      "outputs": []
    },
    {
      "cell_type": "code",
      "source": [
        "df_train_essay_ex.rename(columns = {\"label\":\"generated\"}, inplace=True)\n",
        "df_train_essay_ex['generated'].value_counts()"
      ],
      "metadata": {
        "execution": {
          "iopub.status.busy": "2024-01-15T12:09:19.804488Z",
          "iopub.execute_input": "2024-01-15T12:09:19.804806Z",
          "iopub.status.idle": "2024-01-15T12:09:19.813179Z",
          "shell.execute_reply.started": "2024-01-15T12:09:19.804779Z",
          "shell.execute_reply": "2024-01-15T12:09:19.812202Z"
        },
        "trusted": true,
        "id": "2MLWdDHxPgxV"
      },
      "execution_count": null,
      "outputs": []
    },
    {
      "cell_type": "code",
      "source": [
        "sns.countplot(x=df_train_essay_ex['generated'])\n",
        "plt.show"
      ],
      "metadata": {
        "execution": {
          "iopub.status.busy": "2024-01-15T12:09:19.814318Z",
          "iopub.execute_input": "2024-01-15T12:09:19.814631Z",
          "iopub.status.idle": "2024-01-15T12:09:20.033977Z",
          "shell.execute_reply.started": "2024-01-15T12:09:19.814598Z",
          "shell.execute_reply": "2024-01-15T12:09:20.032981Z"
        },
        "trusted": true,
        "id": "SOiKVMaQPgxY"
      },
      "execution_count": null,
      "outputs": []
    },
    {
      "cell_type": "markdown",
      "source": [
        "### Merge Dataset"
      ],
      "metadata": {
        "id": "LanfygUNPgxa"
      }
    },
    {
      "cell_type": "code",
      "source": [
        "df_train = pd.concat([df_train_essay_ex[[\"text\", \"generated\"]],\n",
        "                                   df_train_essay[[\"text\", \"generated\"]]])"
      ],
      "metadata": {
        "execution": {
          "iopub.status.busy": "2024-01-15T12:09:20.035218Z",
          "iopub.execute_input": "2024-01-15T12:09:20.035508Z",
          "iopub.status.idle": "2024-01-15T12:09:20.048354Z",
          "shell.execute_reply.started": "2024-01-15T12:09:20.035483Z",
          "shell.execute_reply": "2024-01-15T12:09:20.047478Z"
        },
        "trusted": true,
        "id": "63aIDkzIPgxb"
      },
      "execution_count": null,
      "outputs": []
    },
    {
      "cell_type": "code",
      "source": [
        "df_train.info()"
      ],
      "metadata": {
        "execution": {
          "iopub.status.busy": "2024-01-15T12:09:20.051412Z",
          "iopub.execute_input": "2024-01-15T12:09:20.052416Z",
          "iopub.status.idle": "2024-01-15T12:09:20.069312Z",
          "shell.execute_reply.started": "2024-01-15T12:09:20.052366Z",
          "shell.execute_reply": "2024-01-15T12:09:20.068275Z"
        },
        "trusted": true,
        "id": "NaWyPMDTPgxd"
      },
      "execution_count": null,
      "outputs": []
    },
    {
      "cell_type": "code",
      "source": [
        "df_train['generated'].value_counts()"
      ],
      "metadata": {
        "execution": {
          "iopub.status.busy": "2024-01-15T12:09:20.070396Z",
          "iopub.execute_input": "2024-01-15T12:09:20.070702Z",
          "iopub.status.idle": "2024-01-15T12:09:20.078801Z",
          "shell.execute_reply.started": "2024-01-15T12:09:20.070666Z",
          "shell.execute_reply": "2024-01-15T12:09:20.077904Z"
        },
        "trusted": true,
        "id": "8Xai2AvcPgxe"
      },
      "execution_count": null,
      "outputs": []
    },
    {
      "cell_type": "code",
      "source": [
        "sns.countplot(x=df_train['generated'])\n",
        "plt.show"
      ],
      "metadata": {
        "execution": {
          "iopub.status.busy": "2024-01-15T12:09:20.079899Z",
          "iopub.execute_input": "2024-01-15T12:09:20.080151Z",
          "iopub.status.idle": "2024-01-15T12:09:20.308123Z",
          "shell.execute_reply.started": "2024-01-15T12:09:20.080128Z",
          "shell.execute_reply": "2024-01-15T12:09:20.307139Z"
        },
        "trusted": true,
        "id": "9474vN2APgxg"
      },
      "execution_count": null,
      "outputs": []
    },
    {
      "cell_type": "markdown",
      "source": [
        "### Balancing Dataset"
      ],
      "metadata": {
        "id": "wqrOblRcPgxj"
      }
    },
    {
      "cell_type": "code",
      "source": [
        "sns.countplot(x=df_train['generated'])\n",
        "plt.show"
      ],
      "metadata": {
        "execution": {
          "iopub.status.busy": "2024-01-15T12:09:20.315745Z",
          "iopub.execute_input": "2024-01-15T12:09:20.316035Z",
          "iopub.status.idle": "2024-01-15T12:09:20.477142Z",
          "shell.execute_reply.started": "2024-01-15T12:09:20.316009Z",
          "shell.execute_reply": "2024-01-15T12:09:20.476228Z"
        },
        "trusted": true,
        "id": "iAogOLvtPgxm"
      },
      "execution_count": null,
      "outputs": []
    },
    {
      "cell_type": "markdown",
      "source": [
        "## Average Len"
      ],
      "metadata": {
        "id": "XvrvNruxPgxo"
      }
    },
    {
      "cell_type": "code",
      "source": [
        "df_train[\"text_len\"] = df_train[\"text\"].apply(lambda x : len(x.split()))"
      ],
      "metadata": {
        "execution": {
          "iopub.status.busy": "2024-01-15T12:09:20.478468Z",
          "iopub.execute_input": "2024-01-15T12:09:20.479767Z",
          "iopub.status.idle": "2024-01-15T12:09:21.600803Z",
          "shell.execute_reply.started": "2024-01-15T12:09:20.479731Z",
          "shell.execute_reply": "2024-01-15T12:09:21.600017Z"
        },
        "trusted": true,
        "id": "Vt3jNlcCPgxp"
      },
      "execution_count": null,
      "outputs": []
    },
    {
      "cell_type": "code",
      "source": [
        "sns.histplot(df_train['text_len'], bins=20, kde=True)\n",
        "plt.title('Histogram of Text Length')\n",
        "plt.xlabel('Text Length')\n",
        "plt.ylabel('Frequency')\n",
        "plt.show()"
      ],
      "metadata": {
        "execution": {
          "iopub.status.busy": "2024-01-15T12:09:21.602113Z",
          "iopub.execute_input": "2024-01-15T12:09:21.602416Z",
          "iopub.status.idle": "2024-01-15T12:09:22.228199Z",
          "shell.execute_reply.started": "2024-01-15T12:09:21.602389Z",
          "shell.execute_reply": "2024-01-15T12:09:22.227252Z"
        },
        "trusted": true,
        "id": "-CKLaJW1Pgxr"
      },
      "execution_count": null,
      "outputs": []
    },
    {
      "cell_type": "code",
      "source": [
        "print(df_train[\"text_len\"].mean())\n",
        "print(df_train[\"text_len\"].max())"
      ],
      "metadata": {
        "execution": {
          "iopub.status.busy": "2024-01-15T12:09:22.229412Z",
          "iopub.execute_input": "2024-01-15T12:09:22.229727Z",
          "iopub.status.idle": "2024-01-15T12:09:22.235843Z",
          "shell.execute_reply.started": "2024-01-15T12:09:22.229700Z",
          "shell.execute_reply": "2024-01-15T12:09:22.234928Z"
        },
        "trusted": true,
        "id": "2HizG1JWPgxs"
      },
      "execution_count": null,
      "outputs": []
    },
    {
      "cell_type": "markdown",
      "source": [
        "Since the average seq len is 377. Then, it is enough to use bert with 512 seq len"
      ],
      "metadata": {
        "id": "t7Fr-i6LPgxu"
      }
    },
    {
      "cell_type": "markdown",
      "source": [
        "## Data pre-process"
      ],
      "metadata": {
        "id": "b6P9sIPFPgxv"
      }
    },
    {
      "cell_type": "code",
      "source": [
        "from nltk.corpus import stopwords\n",
        "from nltk.tokenize import word_tokenize\n",
        "import nltk\n",
        "\n",
        "# Download the stopwords dataset (you can move this line to the main part of your code if you prefer)\n",
        "# nltk.download('stopwords')\n",
        "# nltk.download('punkt')\n",
        "\n",
        "def remove_stopwords(input_text, language='english'):\n",
        "    \"\"\"\n",
        "    Remove stopwords from the input text.\n",
        "\n",
        "    Parameters:\n",
        "    - input_text (str): The input text containing stopwords.\n",
        "    - language (str): The language of the stopwords. Default is 'english'.\n",
        "\n",
        "    Returns:\n",
        "    - str: The cleaned text without stopwords.\n",
        "    \"\"\"\n",
        "    # Tokenize the text\n",
        "    words = word_tokenize(input_text['text'])\n",
        "\n",
        "    print(f\"Index {input_text['index_col']}\") if input_text['index_col'] % 10000 == 0 else None\n",
        "\n",
        "    # Remove stopwords\n",
        "    filtered_words = [word for word in words if word.lower() not in stopwords.words(language)]\n",
        "\n",
        "    # Join the filtered words to form the cleaned text\n",
        "    cleaned_text = ' '.join(filtered_words)\n",
        "\n",
        "    return cleaned_text"
      ],
      "metadata": {
        "execution": {
          "iopub.status.busy": "2024-01-15T12:09:22.237193Z",
          "iopub.execute_input": "2024-01-15T12:09:22.237573Z",
          "iopub.status.idle": "2024-01-15T12:09:22.862056Z",
          "shell.execute_reply.started": "2024-01-15T12:09:22.237537Z",
          "shell.execute_reply": "2024-01-15T12:09:22.861189Z"
        },
        "trusted": true,
        "id": "y3UuH5-rPgxw"
      },
      "execution_count": null,
      "outputs": []
    },
    {
      "cell_type": "markdown",
      "source": [
        "### Split"
      ],
      "metadata": {
        "id": "C-MFSfvaPgx0"
      }
    },
    {
      "cell_type": "code",
      "source": [
        "from sklearn.model_selection import train_test_split\n",
        "\n",
        "x, y = df_train['text'], df_train['generated']\n",
        "x_train,x_test,y_train,y_test=train_test_split(x,y,test_size=0.3,random_state=2529)\n"
      ],
      "metadata": {
        "execution": {
          "iopub.status.busy": "2024-01-15T12:09:22.868873Z",
          "iopub.execute_input": "2024-01-15T12:09:22.869145Z",
          "iopub.status.idle": "2024-01-15T12:09:22.890718Z",
          "shell.execute_reply.started": "2024-01-15T12:09:22.869120Z",
          "shell.execute_reply": "2024-01-15T12:09:22.889586Z"
        },
        "trusted": true,
        "id": "Yz_tdhcbPgx2"
      },
      "execution_count": null,
      "outputs": []
    },
    {
      "cell_type": "markdown",
      "source": [
        "# Model"
      ],
      "metadata": {
        "id": "V9IXOKOkPgx3"
      }
    },
    {
      "cell_type": "code",
      "source": [
        "# Import libraries\n",
        "from transformers import BertForSequenceClassification, AdamW, BertConfig,BertTokenizer,get_linear_schedule_with_warmup\n",
        "import tensorflow as tf\n",
        "import tensorflow_text as text\n",
        "import tensorflow_hub as hub\n"
      ],
      "metadata": {
        "execution": {
          "iopub.status.busy": "2024-01-15T12:09:22.892044Z",
          "iopub.execute_input": "2024-01-15T12:09:22.892377Z",
          "iopub.status.idle": "2024-01-15T12:09:39.747557Z",
          "shell.execute_reply.started": "2024-01-15T12:09:22.892351Z",
          "shell.execute_reply": "2024-01-15T12:09:39.746469Z"
        },
        "trusted": true,
        "id": "Y4lvYJ-JPgx4"
      },
      "execution_count": null,
      "outputs": []
    },
    {
      "cell_type": "code",
      "source": [
        "model_path = \"/kaggle/input/bert/tensorflow2/bert-en-uncased-l-12-h-128-a-2/2\"\n",
        "preprocess_path = \"/kaggle/input/bert/tensorflow2/en-uncased-preprocess/3/\""
      ],
      "metadata": {
        "execution": {
          "iopub.status.busy": "2024-01-15T12:09:39.748889Z",
          "iopub.execute_input": "2024-01-15T12:09:39.749730Z",
          "iopub.status.idle": "2024-01-15T12:09:39.754357Z",
          "shell.execute_reply.started": "2024-01-15T12:09:39.749699Z",
          "shell.execute_reply": "2024-01-15T12:09:39.753273Z"
        },
        "trusted": true,
        "id": "rxlqB-XQPgx5"
      },
      "execution_count": null,
      "outputs": []
    },
    {
      "cell_type": "code",
      "source": [
        "text_input = tf.keras.layers.Input(shape=(), dtype=tf.string)\n",
        "preprocessor = hub.KerasLayer(preprocess_path)\n",
        "encoder_inputs = preprocessor(text_input)\n",
        "encoder = hub.KerasLayer(\n",
        "    model_path,\n",
        "    trainable=True)\n",
        "outputs = encoder(encoder_inputs)\n",
        "pooled_output = outputs[\"pooled_output\"]      # [batch_size, 512].\n",
        "sequence_output = outputs[\"sequence_output\"]  # [batch_size, seq_length, 512].\n",
        "dense_1 = tf.keras.layers.Dense(128 , activation='relu')(pooled_output)\n",
        "dropout = tf.keras.layers.Dropout(0.7 , name=\"dropout1\")(pooled_output)\n",
        "dense_2 = tf.keras.layers.Dense(64 , activation='relu')(dropout)\n",
        "dropout = tf.keras.layers.Dropout(0.5 , name=\"dropout2\")(dense_2)\n",
        "\n",
        "dense_out = tf.keras.layers.Dense(1 , activation='sigmoid', name='output')(dropout)\n",
        "\n",
        "\n",
        "model = tf.keras.Model(inputs=text_input, outputs=dense_out)\n",
        "model.summary()"
      ],
      "metadata": {
        "execution": {
          "iopub.status.busy": "2024-01-15T12:09:39.762154Z",
          "iopub.execute_input": "2024-01-15T12:09:39.762597Z",
          "iopub.status.idle": "2024-01-15T12:09:54.663334Z",
          "shell.execute_reply.started": "2024-01-15T12:09:39.762561Z",
          "shell.execute_reply": "2024-01-15T12:09:54.662414Z"
        },
        "trusted": true,
        "id": "lJt2mS5uPgx7"
      },
      "execution_count": null,
      "outputs": []
    },
    {
      "cell_type": "code",
      "source": [
        "# https://huggingface.co/google/bert_uncased_L-12_H-128_A-2\n",
        "model.compile(optimizer=tf.keras.optimizers.Adam(learning_rate=5e-5),\n",
        "              loss='binary_crossentropy',\n",
        "              metrics=[\"acc\"])\n",
        "\n",
        "checkpoint_filepath = 'checkpoint.hdf5'\n",
        "metric = 'val_accuracy'\n",
        "callback_list = [tf.keras.callbacks.ModelCheckpoint(filepath=checkpoint_filepath,\n",
        "                                                    monitor=metric,\n",
        "                                                    verbose=2,\n",
        "                                                    save_best_only=True,\n",
        "                                                    mode='max'),\n",
        "                 tf.keras.callbacks.EarlyStopping(monitor=metric,\n",
        "                                                  patience=0,\n",
        "                                                  restore_best_weights=True)\n",
        "                ]\n",
        "history = model.fit(x_train, y_train , batch_size=8, callbacks=[callback_list],\n",
        "                    epochs=5 , validation_data=(x_test, y_test))\n",
        "# model.load_weights(checkpoint_filepath)\n",
        "model.save(\"model-bert\")"
      ],
      "metadata": {
        "execution": {
          "iopub.status.busy": "2024-01-15T12:09:54.664550Z",
          "iopub.execute_input": "2024-01-15T12:09:54.664855Z"
        },
        "trusted": true,
        "id": "FJ3SMQpjPgx9"
      },
      "execution_count": null,
      "outputs": []
    },
    {
      "cell_type": "markdown",
      "source": [
        "# Test"
      ],
      "metadata": {
        "id": "ZxeaCkPWPgx_"
      }
    },
    {
      "cell_type": "code",
      "source": [
        "loss , acc = model.evaluate(x_train, y_train)\n",
        "print(\"Accuracy on Train data:\",acc)\n",
        "loss , acc = model.evaluate(x_test, y_test)\n",
        "print(\"Accuracy on Test data:\",acc)"
      ],
      "metadata": {
        "trusted": true,
        "id": "10Kc8NeWPgym"
      },
      "execution_count": null,
      "outputs": []
    },
    {
      "cell_type": "code",
      "source": [
        "y_pred = model.predict(df_test_essay['text'])\n",
        "y_pred"
      ],
      "metadata": {
        "trusted": true,
        "id": "AgTNdN3gPgyo"
      },
      "execution_count": null,
      "outputs": []
    },
    {
      "cell_type": "code",
      "source": [
        "submission_data = {'id': df_test_essay['id'], 'generated': y_pred[:, 0]}\n",
        "submission = pd.DataFrame(submission_data)\n",
        "\n",
        "# Save the DataFrame to a CSV file\n",
        "submission.to_csv('submission.csv', index=False)"
      ],
      "metadata": {
        "trusted": true,
        "id": "t0YfROLDPgyp"
      },
      "execution_count": null,
      "outputs": []
    },
    {
      "cell_type": "code",
      "source": [
        "pd.read_csv(\"/kaggle/working/submission.csv\")"
      ],
      "metadata": {
        "trusted": true,
        "id": "y7pHdsRnPgyq"
      },
      "execution_count": null,
      "outputs": []
    },
    {
      "cell_type": "code",
      "source": [],
      "metadata": {
        "id": "A2EQsVj9Pgyr"
      },
      "execution_count": null,
      "outputs": []
    }
  ]
}